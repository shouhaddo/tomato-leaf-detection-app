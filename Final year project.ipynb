{
 "cells": [
  {
   "cell_type": "code",
   "execution_count": 1,
   "metadata": {},
   "outputs": [],
   "source": [
    "from tensorflow.keras.models import Model\n",
    "from tensorflow.keras.models import load_model\n",
    "import numpy as np\n",
    "import cv2\n",
    "import tensorflow as tf"
   ]
  },
  {
   "cell_type": "code",
   "execution_count": 2,
   "metadata": {},
   "outputs": [],
   "source": [
    "vgg_load = load_model('model_VGG19.h5')"
   ]
  },
  {
   "cell_type": "code",
   "execution_count": 3,
   "metadata": {},
   "outputs": [],
   "source": [
    "def prepare(filepath):\n",
    "    img_array = cv2.imread(filepath, cv2.IMREAD_COLOR) # Reading the file\n",
    "    img_array = img_array / 255\n",
    "    new_array = cv2.resize(img_array, (224, 224)) # resizing the img_array to (224,224)\n",
    "    return new_array.reshape(-1, 224, 224, 3) # reshaping the new data\n",
    "\n",
    "model = tf.keras.models.load_model(\"model_VGG19.h5\")"
   ]
  },
  {
   "cell_type": "code",
   "execution_count": 6,
   "metadata": {},
   "outputs": [
    {
     "data": {
      "text/plain": [
       "7"
      ]
     },
     "execution_count": 6,
     "metadata": {},
     "output_type": "execute_result"
    }
   ],
   "source": [
    "prediction = model.predict([prepare(\"New Plant Diseases dataset/valid/Tomato___Tomato_Yellow_Leaf_Curl_Virus/01933767-8827-4a46-b089-76b1d8397eb6___YLCV_GCREC 2539.JPG\")])\n",
    "np.argmax(prediction)"
   ]
  },
  {
   "cell_type": "code",
   "execution_count": 7,
   "metadata": {},
   "outputs": [
    {
     "name": "stdout",
     "output_type": "stream",
     "text": [
      "Tomato___Yellow Leaf Curl Virus\n"
     ]
    }
   ],
   "source": [
    "if np.argmax(prediction) == 0:\n",
    "    print(\"Tomato___Bacterial_spot\")\n",
    "elif np.argmax(prediction) == 1:\n",
    "    print(\"Tomato___Early_Blight\")\n",
    "elif np.argmax(prediction) == 2:\n",
    "    print(\"Tomato___Late Blight\")\n",
    "elif np.argmax(prediction) == 3:\n",
    "    print(\"Tomato___Leaf Mold\")\n",
    "elif np.argmax(prediction) == 4:\n",
    "    print(\"Tomato___Septoria Leaf Spot\")\n",
    "elif np.argmax(prediction) == 5:\n",
    "    print(\"Tomato___Spider mites\")\n",
    "elif np.argmax(prediction) == 6:\n",
    "    print(\"Tomato___Target Spot\")\n",
    "elif np.argmax(prediction) == 7:\n",
    "    print(\"Tomato___Yellow Leaf Curl Virus\")\n",
    "elif np.argmax(prediction) == 8:\n",
    "    print(\"Tomato___Mosaic Virus\")\n",
    "else:\n",
    "    print(\"Tomato___Healthy\")"
   ]
  }
 ],
 "metadata": {
  "kernelspec": {
   "display_name": "Python 3",
   "language": "python",
   "name": "python3"
  },
  "language_info": {
   "codemirror_mode": {
    "name": "ipython",
    "version": 3
   },
   "file_extension": ".py",
   "mimetype": "text/x-python",
   "name": "python",
   "nbconvert_exporter": "python",
   "pygments_lexer": "ipython3",
   "version": "3.8.5"
  }
 },
 "nbformat": 4,
 "nbformat_minor": 4
}
